{
 "cells": [
  {
   "cell_type": "code",
   "execution_count": 14,
   "metadata": {},
   "outputs": [],
   "source": [
    "import os\n",
    "import shutil"
   ]
  },
  {
   "cell_type": "code",
   "execution_count": 23,
   "metadata": {},
   "outputs": [],
   "source": [
    "path = r'C:\\Users\\mg\\Desktop\\create a File Organizer using python\\unorganized files - Copy'"
   ]
  },
  {
   "cell_type": "code",
   "execution_count": 24,
   "metadata": {},
   "outputs": [
    {
     "data": {
      "text/plain": [
       "108.26984405517578"
      ]
     },
     "execution_count": 24,
     "metadata": {},
     "output_type": "execute_result"
    }
   ],
   "source": [
    "shutil.disk_usage(path)[0]/(1024 * 1024 * 1024)"
   ]
  },
  {
   "cell_type": "code",
   "execution_count": 25,
   "metadata": {},
   "outputs": [],
   "source": [
    "listoffiles = os.listdir(path)"
   ]
  },
  {
   "cell_type": "code",
   "execution_count": 26,
   "metadata": {},
   "outputs": [
    {
     "name": "stdout",
     "output_type": "stream",
     "text": [
      "13432928-AC9B-4D46-9DE2-A8344669E73F .png\n",
      "160495-artificial-intelligence-template-16x9 .pptx\n",
      "62324266_6_slice_0465 .png\n",
      "62324266_6_slice_0466 .png\n",
      "AI Sciences - LOGO-02 .jpg\n",
      "AI Sciences - LOGO-03 .jpg\n",
      "download .html\n",
      "HORIZONTAL-04 .jpg\n",
      "HORIZONTAL-05 .jpg\n",
      "LOGOMARK-01 .png\n",
      "ML Course Content (pages in reverse order) .pdf\n",
      "payment_order_500704479 .pdf\n",
      "RL-1 (1) .pptx\n",
      "Supervised and unsupervised learning .mp4\n",
      "VERTICAL-05_edit .jpg\n",
      "video4005236343 .mp4\n"
     ]
    }
   ],
   "source": [
    "for files in listoffiles:\n",
    "    name, extension=os.path.splitext(files)\n",
    "    print(name,extension)\n",
    "    extension=extension[1:]\n",
    "    \n",
    "    if os.path.exists(path+'/'+extension):\n",
    "        shutil.move(path+'/'+files, path+'/'+extension+'/'+files)\n",
    "    \n",
    "    else:\n",
    "        os.makedirs(path+'/'+extension)\n",
    "        shutil.move(path+'/'+files, path+'/'+extension+'/'+files)"
   ]
  },
  {
   "cell_type": "code",
   "execution_count": null,
   "metadata": {},
   "outputs": [],
   "source": []
  }
 ],
 "metadata": {
  "kernelspec": {
   "display_name": "Python 3",
   "language": "python",
   "name": "python3"
  },
  "language_info": {
   "codemirror_mode": {
    "name": "ipython",
    "version": 3
   },
   "file_extension": ".py",
   "mimetype": "text/x-python",
   "name": "python",
   "nbconvert_exporter": "python",
   "pygments_lexer": "ipython3",
   "version": "3.8.3"
  }
 },
 "nbformat": 4,
 "nbformat_minor": 5
}
